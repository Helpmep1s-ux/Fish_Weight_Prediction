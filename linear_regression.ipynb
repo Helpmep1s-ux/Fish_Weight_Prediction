{
 "cells": [
  {
   "cell_type": "code",
   "execution_count": 357,
   "id": "05e2b4f4",
   "metadata": {},
   "outputs": [],
   "source": [
    "import numpy as np\n",
    "import pandas as pd\n",
    "from tqdm import tqdm\n",
    "import matplotlib.pyplot as plt"
   ]
  },
  {
   "cell_type": "code",
   "execution_count": 358,
   "id": "2ab18f6b",
   "metadata": {},
   "outputs": [],
   "source": [
    "class LinearRegressor:\n",
    "    def __init__(self) -> None:\n",
    "        self.theta = None\n",
    "\n",
    "    def mse_loss(self, y: np.array, y_pred: np.array)->float:\n",
    "        \"\"\"Calculate MSE Loss\n",
    "\n",
    "        Args:\n",
    "            y (np.array): Actual target vector of shape(m, 1)\n",
    "            y_pred (np.array): Predicted target vector of shape (m, 1)\n",
    "\n",
    "        Returns:\n",
    "            float: MSE LOSS\n",
    "        \"\"\"\n",
    "        \n",
    "        m = y.shape[0]\n",
    "        loss = ((y_pred - y) ** 2).sum() / (2 * m)\n",
    "        \n",
    "        return loss\n",
    "    \n",
    "    def R2_score(self, y: np.array, y_pred: np.array) -> float:\n",
    "        \"\"\"Calculate R2 Score\n",
    "\n",
    "        Args:\n",
    "            y (np.array): Actual target vector of shape(m, 1)\n",
    "            y_pred (np.array): Predicted target vector of shape (m, 1)\n",
    "\n",
    "        Returns:\n",
    "            float: R2 Score\n",
    "        \"\"\"\n",
    "        R2 = 1 - (((y_pred - y)**2).sum() / (((y - y.mean())**2).sum()))\n",
    "        return R2\n",
    "\n",
    "    def calculate_gradients(self, X: np.array, y: np.array, y_pred: np.array)->np.array:\n",
    "        \"\"\"Calculate the gradient array\n",
    "\n",
    "        Args:\n",
    "            X (np.array): Feature matrix of shape (m, n) where m = number of rows/data samples and n = number of columns/features\n",
    "            y (np.array): Actual target vector of shape (m, 1)\n",
    "            y_pred (np.array): Predicted target vector of shape (m, 1)\n",
    "\n",
    "        Returns:\n",
    "            np.array: Gradient array\n",
    "        \"\"\"\n",
    "        m = y.shape[0]\n",
    "        n = X.shape[1]\n",
    "\n",
    "        gradient = np.zeros((1, n+1))\n",
    "        \n",
    "        new_dimension = np.ones((X.shape[0],1))\n",
    "        X_train = np.hstack((new_dimension, X))\n",
    "\n",
    "        gradient = ((y_pred - y).T @ X_train)/m\n",
    "        return gradient\n",
    "\n",
    "    def gradient_descent(self, alpha: float, theta: np.array, gradient: np.array)->np.array:\n",
    "        \"\"\"Update the parameters using gradient descent\n",
    "\n",
    "        Args:\n",
    "            alpha (float): Learning rate\n",
    "            theta (np.array): Parameters of model of shae (n+1, 1)\n",
    "            gradeint (np.array): Gradeints of loss function of shape (1, n+1)\n",
    "\n",
    "        Returns:\n",
    "            np.array: Updated value of parameters of shape (n+1, 1)\n",
    "        \"\"\"\n",
    "        theta = theta - alpha * gradient.T\n",
    "        return theta\n",
    "        \n",
    "    def train(self, X_train: np.array,X_val: np.array, y_train: np.array, y_val: np.array, n_iters: int, alpha: float):\n",
    "        \"\"\"Train through given datas for n iterations\n",
    "\n",
    "        Args:\n",
    "            X_train (np.array): Feature matrix of shape (m, n) where m = number of rows/data samples and n = number of columns/features\n",
    "            X_val (np.array): Validation set\n",
    "            y (np.array): Target vector of shape (m, 1)\n",
    "            n_iters (int): Number of times to iterate\n",
    "            alpha (float): Learning rate\n",
    "\n",
    "        Returns:\n",
    "            theta, history: (Function parameters, history)\n",
    "        \"\"\"\n",
    "        m = X_train.shape[0]\n",
    "        n = X_train.shape[1]\n",
    "\n",
    "        theta = np.ones((n+1, 1))\n",
    "\n",
    "        new_dimension = np.ones((m,1))\n",
    "        X_train_1 = np.hstack((new_dimension, X_train))\n",
    "\n",
    "        new_dimension = np.ones((X_val.shape[0], 1))\n",
    "        X_val_1 = np.hstack((new_dimension, X_val))\n",
    "\n",
    "        history = {\n",
    "            \"loss_train\": [],\n",
    "            \"loss_val\": [],\n",
    "            \"r2_score\" : [],\n",
    "            \"theta\": []\n",
    "        }\n",
    "\n",
    "        for i in tqdm(range(n_iters)):\n",
    "            y_pred_train = X_train_1 @ theta\n",
    "            history[\"loss_train\"].append(self.mse_loss(y_train, y_pred_train))\n",
    "            history[\"r2_score\"].append(self.R2_score(y_train, y_pred_train))\n",
    "            gradient = self.calculate_gradients(X_train,y_train,y_pred_train)\n",
    "            theta = self.gradient_descent(alpha, theta, gradient)\n",
    "            history[\"theta\"].append(theta)\n",
    "\n",
    "            y_pred_val = X_val_1 @ theta\n",
    "            history[\"loss_val\"].append(self.mse_loss(y_val, y_pred_val))\n",
    "\n",
    "        self.theta = theta\n",
    "        return history\n",
    "    \n",
    "    def predict(self, X: np.array) -> float:\n",
    "        \"\"\"Predicts the value of y using X\n",
    "\n",
    "        Args:\n",
    "            X (np.array): Array of features\n",
    "\n",
    "        Returns:\n",
    "            float: Predicted values\n",
    "        \"\"\"\n",
    "\n",
    "        X = X.reshape(X.shape[0], -1)\n",
    "        new_dimension = np.ones((X.shape[0],1))\n",
    "        X_train = np.hstack((new_dimension, X))\n",
    "\n",
    "        return X_train @ self.theta"
   ]
  },
  {
   "cell_type": "code",
   "execution_count": 359,
   "id": "44fd62b2",
   "metadata": {},
   "outputs": [],
   "source": [
    "df = pd.read_csv(\"./train.csv\")"
   ]
  },
  {
   "cell_type": "code",
   "execution_count": 360,
   "id": "cb805392",
   "metadata": {},
   "outputs": [
    {
     "data": {
      "text/plain": [
       "((159, 10), (95, 10), (32, 10))"
      ]
     },
     "execution_count": 360,
     "metadata": {},
     "output_type": "execute_result"
    }
   ],
   "source": [
    "df_train = df.sample(frac=0.6)\n",
    "df_test = df.drop(df_train.index)\n",
    "df_val = df_test.sample(frac=0.5, random_state=2)\n",
    "df_test = df_test.drop(df_val.index)\n",
    "\n",
    "df.shape, df_train.shape, df_val.shape"
   ]
  },
  {
   "cell_type": "code",
   "execution_count": 361,
   "id": "134dbd0f",
   "metadata": {},
   "outputs": [],
   "source": [
    "columns = [\"Length1\", \"Height\", \"Width\"]\n",
    "\n",
    "for column in columns:\n",
    "    mean = df_train[column].mean()\n",
    "    std = df_train[column].std()\n",
    "    df_train[f\"{column}_normalized\"] = (df_train[column] - mean) / std\n",
    "    df_val[f\"{column}_normalized\"] = (df_val[column] - mean) / std\n",
    "    df_test[f\"{column}_normalized\"] = (df_test[column] - mean) / std\n",
    "    df[f\"{column}_normalized\"] = (df[column] - mean) / std\n",
    "\n",
    "df_train = df_train.drop(columns=columns)\n",
    "df_val = df_val.drop(columns=columns)\n",
    "df_test = df_test.drop(columns=columns)\n"
   ]
  },
  {
   "cell_type": "code",
   "execution_count": 362,
   "id": "d866e6e6",
   "metadata": {},
   "outputs": [
    {
     "data": {
      "text/html": [
       "<div>\n",
       "<style scoped>\n",
       "    .dataframe tbody tr th:only-of-type {\n",
       "        vertical-align: middle;\n",
       "    }\n",
       "\n",
       "    .dataframe tbody tr th {\n",
       "        vertical-align: top;\n",
       "    }\n",
       "\n",
       "    .dataframe thead th {\n",
       "        text-align: right;\n",
       "    }\n",
       "</style>\n",
       "<table border=\"1\" class=\"dataframe\">\n",
       "  <thead>\n",
       "    <tr style=\"text-align: right;\">\n",
       "      <th></th>\n",
       "      <th>Weight</th>\n",
       "      <th>Species_Parkki</th>\n",
       "      <th>Species_Perch</th>\n",
       "      <th>Species_Pike</th>\n",
       "      <th>Species_Roach</th>\n",
       "      <th>Species_Smelt</th>\n",
       "      <th>Species_Whitefish</th>\n",
       "      <th>Length1_normalized</th>\n",
       "      <th>Height_normalized</th>\n",
       "      <th>Width_normalized</th>\n",
       "    </tr>\n",
       "  </thead>\n",
       "  <tbody>\n",
       "    <tr>\n",
       "      <th>11</th>\n",
       "      <td>500.0</td>\n",
       "      <td>False</td>\n",
       "      <td>False</td>\n",
       "      <td>False</td>\n",
       "      <td>False</td>\n",
       "      <td>False</td>\n",
       "      <td>False</td>\n",
       "      <td>0.226340</td>\n",
       "      <td>1.287106</td>\n",
       "      <td>0.160811</td>\n",
       "    </tr>\n",
       "    <tr>\n",
       "      <th>15</th>\n",
       "      <td>600.0</td>\n",
       "      <td>False</td>\n",
       "      <td>False</td>\n",
       "      <td>False</td>\n",
       "      <td>False</td>\n",
       "      <td>False</td>\n",
       "      <td>False</td>\n",
       "      <td>0.303036</td>\n",
       "      <td>1.545345</td>\n",
       "      <td>0.646579</td>\n",
       "    </tr>\n",
       "    <tr>\n",
       "      <th>17</th>\n",
       "      <td>700.0</td>\n",
       "      <td>False</td>\n",
       "      <td>False</td>\n",
       "      <td>False</td>\n",
       "      <td>False</td>\n",
       "      <td>False</td>\n",
       "      <td>False</td>\n",
       "      <td>0.412601</td>\n",
       "      <td>1.424288</td>\n",
       "      <td>0.403822</td>\n",
       "    </tr>\n",
       "    <tr>\n",
       "      <th>19</th>\n",
       "      <td>650.0</td>\n",
       "      <td>False</td>\n",
       "      <td>False</td>\n",
       "      <td>False</td>\n",
       "      <td>False</td>\n",
       "      <td>False</td>\n",
       "      <td>False</td>\n",
       "      <td>0.478341</td>\n",
       "      <td>1.311899</td>\n",
       "      <td>0.740254</td>\n",
       "    </tr>\n",
       "    <tr>\n",
       "      <th>20</th>\n",
       "      <td>575.0</td>\n",
       "      <td>False</td>\n",
       "      <td>False</td>\n",
       "      <td>False</td>\n",
       "      <td>False</td>\n",
       "      <td>False</td>\n",
       "      <td>False</td>\n",
       "      <td>0.511211</td>\n",
       "      <td>1.470411</td>\n",
       "      <td>0.639915</td>\n",
       "    </tr>\n",
       "  </tbody>\n",
       "</table>\n",
       "</div>"
      ],
      "text/plain": [
       "    Weight  Species_Parkki  Species_Perch  Species_Pike  Species_Roach  \\\n",
       "11   500.0           False          False         False          False   \n",
       "15   600.0           False          False         False          False   \n",
       "17   700.0           False          False         False          False   \n",
       "19   650.0           False          False         False          False   \n",
       "20   575.0           False          False         False          False   \n",
       "\n",
       "    Species_Smelt  Species_Whitefish  Length1_normalized  Height_normalized  \\\n",
       "11          False              False            0.226340           1.287106   \n",
       "15          False              False            0.303036           1.545345   \n",
       "17          False              False            0.412601           1.424288   \n",
       "19          False              False            0.478341           1.311899   \n",
       "20          False              False            0.511211           1.470411   \n",
       "\n",
       "    Width_normalized  \n",
       "11          0.160811  \n",
       "15          0.646579  \n",
       "17          0.403822  \n",
       "19          0.740254  \n",
       "20          0.639915  "
      ]
     },
     "execution_count": 362,
     "metadata": {},
     "output_type": "execute_result"
    }
   ],
   "source": [
    "df_test.head()"
   ]
  },
  {
   "cell_type": "code",
   "execution_count": 363,
   "id": "5726d215",
   "metadata": {},
   "outputs": [],
   "source": [
    "X_train = df_train.drop(columns=[\"Weight\"]).values\n",
    "y_train = df_train[\"Weight\"].values.reshape(-1 ,1)\n",
    "X_val = df_val.drop(columns=[\"Weight\"]).values\n",
    "y_val = df_val[\"Weight\"].values.reshape(-1 ,1)\n",
    "X_test = df_test.drop(columns=[\"Weight\"]).values\n",
    "y_test = df_test[\"Weight\"].values.reshape(-1 ,1)"
   ]
  },
  {
   "cell_type": "code",
   "execution_count": 364,
   "id": "35888231",
   "metadata": {},
   "outputs": [
    {
     "data": {
      "text/plain": [
       "((95, 9), (95, 1), (32, 9), (32, 1))"
      ]
     },
     "execution_count": 364,
     "metadata": {},
     "output_type": "execute_result"
    }
   ],
   "source": [
    "X_train.shape, y_train.shape, X_val.shape, y_val.shape"
   ]
  },
  {
   "cell_type": "code",
   "execution_count": 365,
   "id": "06f30689",
   "metadata": {},
   "outputs": [
    {
     "name": "stderr",
     "output_type": "stream",
     "text": [
      "100%|██████████| 1000/1000 [00:00<00:00, 7270.56it/s]\n"
     ]
    }
   ],
   "source": [
    "model = LinearRegressor()\n",
    "n_iters = 1000\n",
    "alpha = 0.01\n",
    "history = model.train(X_train, X_val, y_train, y_val, n_iters, alpha)"
   ]
  },
  {
   "cell_type": "code",
   "execution_count": 366,
   "id": "a74d6abf",
   "metadata": {},
   "outputs": [
    {
     "data": {
      "image/png": "[encoded data removed]",
      "text/plain": [
       "<Figure size 500x300 with 1 Axes>"
      ]
     },
     "metadata": {},
     "output_type": "display_data"
    }
   ],
   "source": [
    "fig=plt.figure(figsize=(5, 3))\n",
    "counts=np.linspace(1, n_iters, n_iters)\n",
    "plt.plot(counts, history[\"loss_train\"], label=\"Train Loss\")\n",
    "plt.plot(counts, history[\"loss_val\"], label=\"Validation Loss\")\n",
    "plt.xlabel(\"Iterations\")\n",
    "plt.ylabel(\"MSE Loss\")\n",
    "plt.title(\"Training Loss Cruve\")\n",
    "plt.legend()\n",
    "plt.show()"
   ]
  },
  {
   "cell_type": "code",
   "execution_count": 367,
   "id": "bb9dd11f",
   "metadata": {},
   "outputs": [
    {
     "data": {
      "text/plain": [
       "np.float64(0.9136532473827906)"
      ]
     },
     "execution_count": 367,
     "metadata": {},
     "output_type": "execute_result"
    }
   ],
   "source": [
    "y_test_pred = model.predict(X_test)\n",
    "\n",
    "r2_score_test = model.R2_score(y_test, y_test_pred)\n",
    "\n",
    "r2_score_test"
   ]
  },
  {
   "cell_type": "code",
   "execution_count": 368,
   "id": "038a2d1c",
   "metadata": {},
   "outputs": [
    {
     "data": {
      "text/plain": [
       "np.float64(0.9138470309459785)"
      ]
     },
     "execution_count": 368,
     "metadata": {},
     "output_type": "execute_result"
    }
   ],
   "source": [
    "y_val_pred = model.predict(X_val)\n",
    "\n",
    "r2_score_val = model.R2_score(y_val, y_val_pred)\n",
    "\n",
    "r2_score_val"
   ]
  },
  {
   "cell_type": "code",
   "execution_count": 369,
   "id": "9e120273",
   "metadata": {},
   "outputs": [
    {
     "data": {
      "text/plain": [
       "np.float64(0.8916848857460566)"
      ]
     },
     "execution_count": 369,
     "metadata": {},
     "output_type": "execute_result"
    }
   ],
   "source": [
    "y_train_pred = model.predict(X_train)\n",
    "\n",
    "r2_score_trian = model.R2_score(y_train, y_train_pred)\n",
    "\n",
    "r2_score_trian"
   ]
  },
  {
   "cell_type": "code",
   "execution_count": 370,
   "id": "04cb3513",
   "metadata": {},
   "outputs": [
    {
     "data": {
      "text/plain": [
       "6032.714089098008"
      ]
     },
     "execution_count": 370,
     "metadata": {},
     "output_type": "execute_result"
    }
   ],
   "source": [
    "history[\"loss_train\"][n_iters-1]"
   ]
  },
  {
   "cell_type": "code",
   "execution_count": 371,
   "id": "4f523d67",
   "metadata": {},
   "outputs": [
    {
     "data": {
      "text/plain": [
       "(np.float64(77.67054840219689), np.float64(84.92354818130482))"
      ]
     },
     "execution_count": 371,
     "metadata": {},
     "output_type": "execute_result"
    }
   ],
   "source": [
    "np.sqrt(history[\"loss_train\"][n_iters-1]), np.sqrt(history[\"loss_val\"][n_iters-1])"
   ]
  },
  {
   "cell_type": "code",
   "execution_count": 372,
   "id": "a3e885cb",
   "metadata": {},
   "outputs": [
    {
     "data": {
      "text/plain": [
       "np.float64(395.40188679245284)"
      ]
     },
     "execution_count": 372,
     "metadata": {},
     "output_type": "execute_result"
    }
   ],
   "source": [
    "df[\"Weight\"].mean()"
   ]
  },
  {
   "cell_type": "code",
   "execution_count": 373,
   "id": "a2662473",
   "metadata": {},
   "outputs": [],
   "source": [
    "rmse = np.sqrt(model.mse_loss(y_pred=y_test_pred, y=y_test))\n",
    "mean = df[\"Weight\"].mean()\n",
    "relative_error = rmse/mean"
   ]
  },
  {
   "cell_type": "code",
   "execution_count": 374,
   "id": "de445d0a",
   "metadata": {},
   "outputs": [
    {
     "name": "stdout",
     "output_type": "stream",
     "text": [
      "Root Mean Squared Error (RMSE): 66.24\n",
      "R2 Score: 0.914\n",
      "Relative Error: 16.75%\n"
     ]
    }
   ],
   "source": [
    "print(f\"Root Mean Squared Error (RMSE): {rmse:.2f}\")\n",
    "print(f\"R2 Score: {r2_score_test:.3f}\")\n",
    "print(f\"Relative Error: {relative_error:.2%}\")"
   ]
  },
  {
   "cell_type": "code",
   "execution_count": null,
   "id": "e1da1ddd",
   "metadata": {},
   "outputs": [],
   "source": []
  }
 ],
 "metadata": {
  "kernelspec": {
   "display_name": ".venv (3.14.0)",
   "language": "python",
   "name": "python3"
  },
  "language_info": {
   "codemirror_mode": {
    "name": "ipython",
    "version": 3
   },
   "file_extension": ".py",
   "mimetype": "text/x-python",
   "name": "python",
   "nbconvert_exporter": "python",
   "pygments_lexer": "ipython3",
   "version": "3.14.0"
  }
 },
 "nbformat": 4,
 "nbformat_minor": 5
}
